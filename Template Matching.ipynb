{
 "cells": [
  {
   "cell_type": "markdown",
   "metadata": {},
   "source": [
    "Library"
   ]
  },
  {
   "cell_type": "code",
   "execution_count": 1,
   "metadata": {},
   "outputs": [],
   "source": [
    "import cv2 as cv\n",
    "import numpy as np\n",
    "import time\n",
    "from matplotlib import pyplot as plt\n",
    "from math import radians, sin, cos, pi, sqrt"
   ]
  },
  {
   "cell_type": "markdown",
   "metadata": {},
   "source": [
    "Build Pyramid Image"
   ]
  },
  {
   "cell_type": "code",
   "execution_count": 2,
   "metadata": {},
   "outputs": [],
   "source": [
    "def buildPyramid(image, maxleval):\n",
    "    imgpyr = [image]\n",
    "    aux = image\n",
    "    for i in range(0, maxleval):\n",
    "        aux = cv.pyrDown(aux)\n",
    "        imgpyr.append(aux)\n",
    "\n",
    "    imgpyr.reverse()\n",
    "    return imgpyr"
   ]
  },
  {
   "cell_type": "markdown",
   "metadata": {},
   "source": [
    "Rotation"
   ]
  },
  {
   "cell_type": "code",
   "execution_count": 30,
   "metadata": {},
   "outputs": [],
   "source": [
    "def rotation(image, angleInDegrees):\n",
    "    h, w = image.shape[:2]\n",
    "    img_c = (w/2, h/2)\n",
    "\n",
    "    rot = cv.getRotationMatrix2D(img_c, angleInDegrees, 1)\n",
    "    rad = radians(angleInDegrees)\n",
    "    si = sin(rad)\n",
    "    co = cos(rad)\n",
    "    b_w = int((h * abs(si)) + (w * abs(co)))\n",
    "    b_h = int((h * abs(co)) + (w * abs(si)))\n",
    "\n",
    "    rot[0, 2] += ((b_w / 2) - img_c[0])\n",
    "    rot[1, 2] += ((b_h / 2) - img_c[1])\n",
    "\n",
    "    outImg = cv.warpAffine(image, rot, (b_w, b_h), flags=cv.INTER_LINEAR)\n",
    "    return outImg"
   ]
  },
  {
   "cell_type": "markdown",
   "metadata": {},
   "source": [
    "Recangle"
   ]
  },
  {
   "cell_type": "code",
   "execution_count": 31,
   "metadata": {},
   "outputs": [],
   "source": [
    "def recangleX(refimg, W, H, Wt, Ht, goc, pt):\n",
    "    anglerad = radians(goc)\n",
    "    point1 = (-W // 2, -H // 2)\n",
    "    point2 = (W // 2, -H // 2)\n",
    "    point3 = (W // 2, H // 2)\n",
    "    point4 = (-W // 2, H // 2)\n",
    "    \n",
    "    point1 = (int(point1[0] * cos(2 * pi - anglerad) - point1[1] * sin(2 * pi - anglerad)),\n",
    "              int(point1[0] * sin(2 * pi - anglerad) + point1[1] * cos(2 * pi - anglerad)))\n",
    "    point2 = (int(point2[0] * cos(2 * pi - anglerad) - point2[1] * sin(2 * pi - anglerad)),\n",
    "              int(point2[0] * sin(2 * pi - anglerad) + point2[1] * cos(2 * pi - anglerad)))\n",
    "    point3 = (int(point3[0] * cos(2 * pi - anglerad) - point3[1] * sin(2 * pi - anglerad)),\n",
    "              int(point3[0] * sin(2 * pi - anglerad) + point3[1] * cos(2 * pi - anglerad)))\n",
    "    point4 = (int(point4[0] * cos(2 * pi - anglerad) - point4[1] * sin(2 * pi - anglerad)),\n",
    "              int(point4[0] * sin(2 * pi - anglerad) + point4[1] * cos(2 * pi - anglerad)))\n",
    "\n",
    "    point1 = (point1[0] + pt[0] + Wt // 2, point1[1] + pt[1] + Ht // 2)\n",
    "    point2 = (point2[0] + pt[0] + Wt // 2, point2[1] + pt[1] + Ht // 2)\n",
    "    point3 = (point3[0] + pt[0] + Wt // 2, point3[1] + pt[1] + Ht // 2)\n",
    "    point4 = (point4[0] + pt[0] + Wt // 2, point4[1] + pt[1] + Ht // 2)\n",
    "    cv.line(refimg, point1, point2, (0, 0, 0), 2)\n",
    "    cv.line(refimg, point2, point3, (0, 0, 0), 2)\n",
    "    cv.line(refimg, point3, point4, (0, 0, 0), 2)\n",
    "    cv.line(refimg, point4, point1, (0, 0, 0), 2)"
   ]
  },
  {
   "cell_type": "markdown",
   "metadata": {},
   "source": [
    "Pyramid rotated matching template"
   ]
  },
  {
   "cell_type": "code",
   "execution_count": 36,
   "metadata": {},
   "outputs": [],
   "source": [
    "def fastTemplateMatchPyramid(src_refimg, src_tplimg, maxleval):\n",
    "    ## Build image pyramid\n",
    "    refimgs = buildPyramid(src_refimg, maxleval)\n",
    "    tplimgs = buildPyramid(src_tplimg, maxleval)\n",
    "\n",
    "    ## Do template match\n",
    "    top_lefts = []\n",
    "    step = 0\n",
    "    for idx in range(0, maxleval + 1):\n",
    "        refimg = refimgs[idx]\n",
    "        tplimg = tplimgs[idx]\n",
    "        W, H = refimg.shape[::-1]\n",
    "        Wt, Ht = tplimg.shape[::-1]\n",
    "        print('Level', idx)\n",
    "        step_save = step\n",
    "        step = int(round(sqrt(2)/((sqrt(Ht**2+Wt**2))*pi)*360, 1)*10)\n",
    "        masktpl = np.uint8(np.ones((Ht, Wt)))\n",
    "        if idx == 0:\n",
    "            ans = []\n",
    "            print(Wt, Ht)\n",
    "            print(step)\n",
    "            for angles in range(0, 3600, step): \n",
    "                angle = angles/10\n",
    "                tplimg_new = rotation(tplimg, angle)\n",
    "                anglerad = radians(angle)\n",
    "                masktpl_new = rotation(masktpl, angle)\n",
    "                result = cv.matchTemplate(refimg, tplimg_new, cv.TM_CCORR_NORMED, mask = masktpl_new)\n",
    "                minval, maxval, minloc, maxloc = cv.minMaxLoc(result)\n",
    "                if maxval > 0.9:\n",
    "                    ans.append([result, angle, maxloc])\n",
    "            \n",
    "        else:\n",
    "            ans_new = []\n",
    "            for res, goc, topleft in ans:\n",
    "                loc = None\n",
    "                d = goc\n",
    "                res = None\n",
    "                k = step_save\n",
    "                y = topleft[1]*2\n",
    "                x = topleft[0]*2\n",
    "                print(Wt, Ht)\n",
    "                print(step)\n",
    "                print(d, topleft)\n",
    "                print(int(d*10-k), int(d*10+k+1))\n",
    "                for angles in range(int((d - k)*10), int((d + k + 1)*10), step):\n",
    "                    angle = angles/10\n",
    "                    tplimg_new = rotation(tplimg, angle)\n",
    "                    w, h = tplimg_new.shape[::-1]\n",
    "                    masktpl_new = rotation(masktpl, angle)\n",
    "                    refimg_new = refimg[y-2:y+h+1, x-2:x+w+1]\n",
    "                    result = cv.matchTemplate(refimg_new, tplimg_new, cv.TM_CCORR_NORMED, mask = masktpl_new)\n",
    "                    minval, maxval, minloc, maxloc = cv.minMaxLoc(result)\n",
    "                    if maxval > 0.9:\n",
    "                        loc = maxloc                    \n",
    "                        goc = angle\n",
    "                        res = result.copy()\n",
    "                top_left = (loc[0]+ x - 2, loc[1] + y - 2)\n",
    "                ans_new.append([res, goc, top_left])\n",
    "                print('goc topleft val', goc, top_left)\n",
    "            ans = list(ans_new)\n",
    "            print('----')\n",
    "                \n",
    "    return ans"
   ]
  },
  {
   "cell_type": "code",
   "execution_count": 37,
   "metadata": {},
   "outputs": [],
   "source": [
    "def fastTemplateMatch(refname, tplname, maxleval):\n",
    "    refimg = cv.imread(refname,0)\n",
    "    tplimg = cv.imread(tplname,0)\n",
    "    W, H = tplimg.shape[::-1]\n",
    "    ## Call fastTemplateMatchInPyramid()\n",
    "    start_time = time.time()\n",
    "    ans = fastTemplateMatchPyramid(refimg, tplimg, maxleval)\n",
    "    print(\"--- %s seconds ---\" % (time.time() - start_time))\n",
    "#     plt.imshow(ans,cmap='gray')\n",
    "#     plt.show()\n",
    "    for result, goc, topleft in ans:\n",
    "        print('goc ', goc)\n",
    "        minval, maxval, minloc, maxloc = cv.minMaxLoc(result)\n",
    "        threshold = (maxval-1e6)/1.5\n",
    "        loc = np.where(result >= threshold)\n",
    "        tpl_new = rotation(tplimg, goc)\n",
    "        Wt, Ht = tpl_new.shape[::-1]\n",
    "        for pt in zip(*loc[::-1]):   \n",
    "            recangleX(refimg, W, H, Wt, Ht, goc, (pt[0]+topleft[0], pt[1]+topleft[1]))\n",
    "    plt.subplot()\n",
    "    plt.imshow(refimg,cmap = 'gray')\n",
    "    plt.title('Detected Point'), plt.xticks([]), plt.yticks([])\n",
    "    plt.show()\n",
    "    return "
   ]
  },
  {
   "cell_type": "code",
   "execution_count": 38,
   "metadata": {
    "scrolled": true
   },
   "outputs": [
    {
     "name": "stdout",
     "output_type": "stream",
     "text": [
      "Level 0\n",
      "18 25\n",
      "53\n",
      "Level 1\n",
      "36 49\n",
      "27\n",
      "0.0 (9, 4)\n",
      "-53 54\n",
      "goc topleft val 52.3 (19, 6)\n",
      "36 49\n",
      "27\n",
      "5.3 (41, 4)\n",
      "0 107\n",
      "goc topleft val 57.6 (80, 6)\n",
      "36 49\n",
      "27\n",
      "10.6 (7, 3)\n",
      "53 160\n",
      "goc topleft val 62.9 (12, 4)\n",
      "36 49\n",
      "27\n",
      "15.9 (6, 3)\n",
      "106 213\n",
      "goc topleft val 68.2 (11, 6)\n",
      "36 49\n",
      "27\n",
      "21.2 (39, 3)\n",
      "159 266\n",
      "goc topleft val 73.5 (79, 7)\n",
      "36 49\n",
      "27\n",
      "26.5 (5, 2)\n",
      "212 319\n",
      "goc topleft val 78.8 (11, 3)\n",
      "36 49\n",
      "27\n",
      "31.8 (38, 2)\n",
      "265 372\n",
      "goc topleft val 84.1 (77, 2)\n",
      "36 49\n",
      "27\n",
      "37.1 (38, 2)\n",
      "318 425\n",
      "goc topleft val 89.4 (77, 2)\n",
      "36 49\n",
      "27\n",
      "42.4 (22, 7)\n",
      "371 478\n",
      "goc topleft val 94.7 (42, 15)\n",
      "36 49\n",
      "27\n",
      "47.7 (22, 6)\n",
      "424 531\n",
      "goc topleft val 100.1 (42, 10)\n",
      "36 49\n",
      "27\n",
      "53.0 (55, 5)\n",
      "477 584\n",
      "goc topleft val 105.3 (111, 8)\n",
      "36 49\n",
      "27\n",
      "58.3 (55, 6)\n",
      "530 637\n",
      "goc topleft val 110.5 (111, 10)\n",
      "36 49\n",
      "27\n",
      "63.6 (55, 10)\n",
      "583 690\n",
      "goc topleft val 102.4 (111, 18)\n",
      "36 49\n",
      "27\n",
      "68.9 (96, 0)\n",
      "636 743\n"
     ]
    },
    {
     "ename": "error",
     "evalue": "OpenCV(4.4.0) C:\\Users\\appveyor\\AppData\\Local\\Temp\\1\\pip-req-build-71670poj\\opencv\\modules\\imgproc\\src\\templmatch.cpp:768: error: (-215:Assertion failed) _img.size().height >= _templ.size().height && _img.size().width >= _templ.size().width in function 'cv::matchTemplateMask'\n",
     "output_type": "error",
     "traceback": [
      "\u001b[1;31m---------------------------------------------------------------------------\u001b[0m",
      "\u001b[1;31merror\u001b[0m                                     Traceback (most recent call last)",
      "\u001b[1;32m<ipython-input-38-c8412f27bf67>\u001b[0m in \u001b[0;36m<module>\u001b[1;34m\u001b[0m\n\u001b[0;32m      9\u001b[0m \u001b[0mnob\u001b[0m \u001b[1;33m=\u001b[0m \u001b[1;36m4\u001b[0m\u001b[1;33m\u001b[0m\u001b[1;33m\u001b[0m\u001b[0m\n\u001b[0;32m     10\u001b[0m \u001b[1;33m\u001b[0m\u001b[0m\n\u001b[1;32m---> 11\u001b[1;33m \u001b[0mfastTemplateMatch\u001b[0m\u001b[1;33m(\u001b[0m\u001b[0mrefname\u001b[0m\u001b[1;33m,\u001b[0m \u001b[0mtplname\u001b[0m\u001b[1;33m,\u001b[0m \u001b[0mmaxleval\u001b[0m\u001b[1;33m)\u001b[0m\u001b[1;33m\u001b[0m\u001b[1;33m\u001b[0m\u001b[0m\n\u001b[0m",
      "\u001b[1;32m<ipython-input-37-6911573f2a64>\u001b[0m in \u001b[0;36mfastTemplateMatch\u001b[1;34m(refname, tplname, maxleval)\u001b[0m\n\u001b[0;32m      5\u001b[0m     \u001b[1;31m## Call fastTemplateMatchInPyramid()\u001b[0m\u001b[1;33m\u001b[0m\u001b[1;33m\u001b[0m\u001b[1;33m\u001b[0m\u001b[0m\n\u001b[0;32m      6\u001b[0m     \u001b[0mstart_time\u001b[0m \u001b[1;33m=\u001b[0m \u001b[0mtime\u001b[0m\u001b[1;33m.\u001b[0m\u001b[0mtime\u001b[0m\u001b[1;33m(\u001b[0m\u001b[1;33m)\u001b[0m\u001b[1;33m\u001b[0m\u001b[1;33m\u001b[0m\u001b[0m\n\u001b[1;32m----> 7\u001b[1;33m     \u001b[0mans\u001b[0m \u001b[1;33m=\u001b[0m \u001b[0mfastTemplateMatchPyramid\u001b[0m\u001b[1;33m(\u001b[0m\u001b[0mrefimg\u001b[0m\u001b[1;33m,\u001b[0m \u001b[0mtplimg\u001b[0m\u001b[1;33m,\u001b[0m \u001b[0mmaxleval\u001b[0m\u001b[1;33m)\u001b[0m\u001b[1;33m\u001b[0m\u001b[1;33m\u001b[0m\u001b[0m\n\u001b[0m\u001b[0;32m      8\u001b[0m     \u001b[0mprint\u001b[0m\u001b[1;33m(\u001b[0m\u001b[1;34m\"--- %s seconds ---\"\u001b[0m \u001b[1;33m%\u001b[0m \u001b[1;33m(\u001b[0m\u001b[0mtime\u001b[0m\u001b[1;33m.\u001b[0m\u001b[0mtime\u001b[0m\u001b[1;33m(\u001b[0m\u001b[1;33m)\u001b[0m \u001b[1;33m-\u001b[0m \u001b[0mstart_time\u001b[0m\u001b[1;33m)\u001b[0m\u001b[1;33m)\u001b[0m\u001b[1;33m\u001b[0m\u001b[1;33m\u001b[0m\u001b[0m\n\u001b[0;32m      9\u001b[0m \u001b[1;31m#     plt.imshow(ans,cmap='gray')\u001b[0m\u001b[1;33m\u001b[0m\u001b[1;33m\u001b[0m\u001b[1;33m\u001b[0m\u001b[0m\n",
      "\u001b[1;32m<ipython-input-36-daa5bceb5533>\u001b[0m in \u001b[0;36mfastTemplateMatchPyramid\u001b[1;34m(src_refimg, src_tplimg, maxleval)\u001b[0m\n\u001b[0;32m     50\u001b[0m                     \u001b[0mmasktpl_new\u001b[0m \u001b[1;33m=\u001b[0m \u001b[0mrotation\u001b[0m\u001b[1;33m(\u001b[0m\u001b[0mmasktpl\u001b[0m\u001b[1;33m,\u001b[0m \u001b[0mangle\u001b[0m\u001b[1;33m)\u001b[0m\u001b[1;33m\u001b[0m\u001b[1;33m\u001b[0m\u001b[0m\n\u001b[0;32m     51\u001b[0m                     \u001b[0mrefimg_new\u001b[0m \u001b[1;33m=\u001b[0m \u001b[0mrefimg\u001b[0m\u001b[1;33m[\u001b[0m\u001b[0my\u001b[0m\u001b[1;33m-\u001b[0m\u001b[1;36m2\u001b[0m\u001b[1;33m:\u001b[0m\u001b[0my\u001b[0m\u001b[1;33m+\u001b[0m\u001b[0mh\u001b[0m\u001b[1;33m+\u001b[0m\u001b[1;36m1\u001b[0m\u001b[1;33m,\u001b[0m \u001b[0mx\u001b[0m\u001b[1;33m-\u001b[0m\u001b[1;36m2\u001b[0m\u001b[1;33m:\u001b[0m\u001b[0mx\u001b[0m\u001b[1;33m+\u001b[0m\u001b[0mw\u001b[0m\u001b[1;33m+\u001b[0m\u001b[1;36m1\u001b[0m\u001b[1;33m]\u001b[0m\u001b[1;33m\u001b[0m\u001b[1;33m\u001b[0m\u001b[0m\n\u001b[1;32m---> 52\u001b[1;33m                     \u001b[0mresult\u001b[0m \u001b[1;33m=\u001b[0m \u001b[0mcv\u001b[0m\u001b[1;33m.\u001b[0m\u001b[0mmatchTemplate\u001b[0m\u001b[1;33m(\u001b[0m\u001b[0mrefimg_new\u001b[0m\u001b[1;33m,\u001b[0m \u001b[0mtplimg_new\u001b[0m\u001b[1;33m,\u001b[0m \u001b[0mcv\u001b[0m\u001b[1;33m.\u001b[0m\u001b[0mTM_CCORR_NORMED\u001b[0m\u001b[1;33m,\u001b[0m \u001b[0mmask\u001b[0m \u001b[1;33m=\u001b[0m \u001b[0mmasktpl_new\u001b[0m\u001b[1;33m)\u001b[0m\u001b[1;33m\u001b[0m\u001b[1;33m\u001b[0m\u001b[0m\n\u001b[0m\u001b[0;32m     53\u001b[0m                     \u001b[0mminval\u001b[0m\u001b[1;33m,\u001b[0m \u001b[0mmaxval\u001b[0m\u001b[1;33m,\u001b[0m \u001b[0mminloc\u001b[0m\u001b[1;33m,\u001b[0m \u001b[0mmaxloc\u001b[0m \u001b[1;33m=\u001b[0m \u001b[0mcv\u001b[0m\u001b[1;33m.\u001b[0m\u001b[0mminMaxLoc\u001b[0m\u001b[1;33m(\u001b[0m\u001b[0mresult\u001b[0m\u001b[1;33m)\u001b[0m\u001b[1;33m\u001b[0m\u001b[1;33m\u001b[0m\u001b[0m\n\u001b[0;32m     54\u001b[0m                     \u001b[1;32mif\u001b[0m \u001b[0mmaxval\u001b[0m \u001b[1;33m>\u001b[0m \u001b[1;36m0.8\u001b[0m\u001b[1;33m:\u001b[0m\u001b[1;33m\u001b[0m\u001b[1;33m\u001b[0m\u001b[0m\n",
      "\u001b[1;31merror\u001b[0m: OpenCV(4.4.0) C:\\Users\\appveyor\\AppData\\Local\\Temp\\1\\pip-req-build-71670poj\\opencv\\modules\\imgproc\\src\\templmatch.cpp:768: error: (-215:Assertion failed) _img.size().height >= _templ.size().height && _img.size().width >= _templ.size().width in function 'cv::matchTemplateMask'\n"
     ]
    }
   ],
   "source": [
    "refname = \"messi_4.jpg\"\n",
    "tplname = \"messi_face_template.jpg\"\n",
    "# refname = \"BAT0001.PNG\"\n",
    "# tplname = \"BAT.PNG\"\n",
    "# refname = \"./Images/circlips_15.tif\"\n",
    "# tplname = \"./Images/circlips01.tif\"\n",
    "\n",
    "maxleval = 5\n",
    "nob = 4\n",
    "\n",
    "fastTemplateMatch(refname, tplname, maxleval)"
   ]
  },
  {
   "cell_type": "code",
   "execution_count": 15,
   "metadata": {
    "scrolled": true
   },
   "outputs": [
    {
     "data": {
      "text/plain": [
       "'C:\\\\Users\\\\DSQT\\\\JupyterNotebook'"
      ]
     },
     "execution_count": 15,
     "metadata": {},
     "output_type": "execute_result"
    }
   ],
   "source": [
    "pwd"
   ]
  },
  {
   "cell_type": "code",
   "execution_count": null,
   "metadata": {},
   "outputs": [],
   "source": []
  }
 ],
 "metadata": {
  "kernelspec": {
   "display_name": "Python 3",
   "language": "python",
   "name": "python3"
  },
  "language_info": {
   "codemirror_mode": {
    "name": "ipython",
    "version": 3
   },
   "file_extension": ".py",
   "mimetype": "text/x-python",
   "name": "python",
   "nbconvert_exporter": "python",
   "pygments_lexer": "ipython3",
   "version": "3.8.5"
  }
 },
 "nbformat": 4,
 "nbformat_minor": 4
}
